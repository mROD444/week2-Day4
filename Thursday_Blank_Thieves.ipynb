{
 "cells": [
  {
   "cell_type": "markdown",
   "metadata": {},
   "source": [
    "# Object-Oriented-Programming (OOP)"
   ]
  },
  {
   "cell_type": "markdown",
   "metadata": {},
   "source": [
    "## Tasks Today:\n",
    "\n",
    "   \n",
    "\n",
    "1) <b>Creating a Class (Initializing/Declaring)</b> <br>\n",
    "2) <b>Using a Class (Instantiating)</b> <br>\n",
    " &nbsp;&nbsp;&nbsp;&nbsp; a) Creating One Instance <br>\n",
    " &nbsp;&nbsp;&nbsp;&nbsp; b) Creating Multiple Instances <br>\n",
    " &nbsp;&nbsp;&nbsp;&nbsp; c) In-Class Exercise #1 - Create a Class 'Car' and instantiate three different makes of cars <br>\n",
    "3) <b>The \\__init\\__() Method</b> <br>\n",
    " &nbsp;&nbsp;&nbsp;&nbsp; a) The 'self' Attribute <br>\n",
    "4) <b>Class Attributes</b> <br>\n",
    " &nbsp;&nbsp;&nbsp;&nbsp; a) Initializing Attributes <br>\n",
    " &nbsp;&nbsp;&nbsp;&nbsp; b) Setting an Attribute Outside of the \\__init\\__() Method <br>\n",
    " &nbsp;&nbsp;&nbsp;&nbsp; c) Setting Defaults for Attributes <br>\n",
    " &nbsp;&nbsp;&nbsp;&nbsp; d) Accessing Class Attributes <br>\n",
    " &nbsp;&nbsp;&nbsp;&nbsp; e) Changing Class Attributes <br>\n",
    " &nbsp;&nbsp;&nbsp;&nbsp; f) In-Class Exercise #2 - Add a color and wheels attribute to your 'Car' class <br>\n",
    "5) <b>Class Methods</b> <br>\n",
    " &nbsp;&nbsp;&nbsp;&nbsp; a) Creating <br>\n",
    " &nbsp;&nbsp;&nbsp;&nbsp; b) Calling <br>\n",
    " &nbsp;&nbsp;&nbsp;&nbsp; c) Modifying an Attribute's Value Through a Method <br>\n",
    " &nbsp;&nbsp;&nbsp;&nbsp; d) Incrementing an Attribute's Value Through a Method <br>\n",
    " &nbsp;&nbsp;&nbsp;&nbsp; e) In-Class Exercise #3 - Add a method that prints the cars color and wheel number, then call them <br>\n",
    "6) <b>Inheritance</b> <br>\n",
    " &nbsp;&nbsp;&nbsp;&nbsp; a) Syntax for Inheriting from a Parent Class <br>\n",
    " &nbsp;&nbsp;&nbsp;&nbsp; b) The \\__init\\__() Method for a Child Class (super()) <br>\n",
    " &nbsp;&nbsp;&nbsp;&nbsp; c) Defining Attributes and Methods for the Child Class <br>\n",
    " &nbsp;&nbsp;&nbsp;&nbsp; d) Method Overriding <br>\n",
    " &nbsp;&nbsp;&nbsp;&nbsp; e) In-Class Exercise #4 - Create a class 'Ford' that inherits from 'Car' class and initialize it as a Blue Ford Explorer with 4 wheels using the super() method <br>\n",
    "7) <b>Exercises</b> <br>\n",
    " &nbsp;&nbsp;&nbsp;&nbsp; a) Exercise #1 - Turn the shopping cart program from yesterday into an object-oriented program <br>"
   ]
  },
  {
   "cell_type": "markdown",
   "metadata": {},
   "source": [
    "## Creating a Class (Initializing/Declaring)\n",
    "<p>When creating a class, function, or even a variable you are initializing that object. Initializing and Declaring occur at the same time in Python, whereas in lower level languages you have to declare an object before initializing it. This is the first step in the process of using a class.</p>"
   ]
  },
  {
   "cell_type": "code",
   "execution_count": 1,
   "metadata": {},
   "outputs": [],
   "source": [
    "class Car():\n",
    "    wheels = 4\n",
    "    color = 'blue'\n",
    "\n"
   ]
  },
  {
   "cell_type": "markdown",
   "metadata": {},
   "source": [
    "## Using a Class (Instantiating)\n",
    "<p>The process of creating a class is called <i>Instantiating</i>. Each time you create a variable of that type of class, it is referred to as an <i>Instance</i> of that class. This is the second step in the process of using a class.</p>"
   ]
  },
  {
   "cell_type": "markdown",
   "metadata": {},
   "source": [
    "##### Creating One Instance"
   ]
  },
  {
   "cell_type": "code",
   "execution_count": 2,
   "metadata": {},
   "outputs": [
    {
     "name": "stdout",
     "output_type": "stream",
     "text": [
      "4\n"
     ]
    }
   ],
   "source": [
    "ford = Car()\n",
    "print(ford.wheels)"
   ]
  },
  {
   "cell_type": "markdown",
   "metadata": {},
   "source": [
    "##### Creating Multiple Instances"
   ]
  },
  {
   "cell_type": "code",
   "execution_count": 3,
   "metadata": {},
   "outputs": [
    {
     "name": "stdout",
     "output_type": "stream",
     "text": [
      "blue\n"
     ]
    }
   ],
   "source": [
    "nissan = Car()\n",
    "print(nissan.color)"
   ]
  },
  {
   "cell_type": "markdown",
   "metadata": {},
   "source": [
    "##### In-Class Exercise #1 - Create a Class 'Car' and Instantiate three different makes of cars"
   ]
  },
  {
   "cell_type": "code",
   "execution_count": null,
   "metadata": {},
   "outputs": [],
   "source": [
    "class Car():\n",
    "    nissan = 370\n",
    "    audi = 'a3'\n",
    "    toyota = 'corolla'"
   ]
  },
  {
   "cell_type": "markdown",
   "metadata": {},
   "source": [
    "## The \\__init\\__() Method <br>\n",
    "<p>This method is used in almost every created class, and called only once upon the creation of the class instance. This method will initialize all variables needed for the object.</p>"
   ]
  },
  {
   "cell_type": "code",
   "execution_count": 6,
   "metadata": {},
   "outputs": [],
   "source": [
    "class NFLTeam():\n",
    "    def __init__(self, city, name): # dunder init method, alo known as 'Constructor'\n",
    "        self.city = city #instance properties\n",
    "        self.name = name\n",
    "eagles = NFLTeam('Philadelphia','Eagles')"
   ]
  },
  {
   "cell_type": "markdown",
   "metadata": {},
   "source": [
    "##### The 'self' Attribute <br>\n",
    "<p>This attribute is required to keep track of specific instance's attributes. Without the self attribute, the program would not know how to reference or keep track of an instance's attributes.</p>"
   ]
  },
  {
   "cell_type": "code",
   "execution_count": null,
   "metadata": {},
   "outputs": [],
   "source": [
    "# see above"
   ]
  },
  {
   "cell_type": "markdown",
   "metadata": {},
   "source": [
    "## Class Attributes <br>\n",
    "<p>While variables are inside of a class, they are referred to as attributes and not variables. When someone says 'attribute' you know they're speaking about a class. Attributes can be initialized through the init method, or outside of it.</p>"
   ]
  },
  {
   "cell_type": "markdown",
   "metadata": {},
   "source": [
    "##### Initializing Attributes"
   ]
  },
  {
   "cell_type": "code",
   "execution_count": null,
   "metadata": {},
   "outputs": [],
   "source": [
    "# see above"
   ]
  },
  {
   "cell_type": "markdown",
   "metadata": {},
   "source": [
    "##### Accessing Class Attributes"
   ]
  },
  {
   "cell_type": "code",
   "execution_count": null,
   "metadata": {
    "scrolled": true
   },
   "outputs": [],
   "source": [
    "# See Above"
   ]
  },
  {
   "cell_type": "markdown",
   "metadata": {},
   "source": [
    "##### Setting Defaults for Attributes"
   ]
  },
  {
   "cell_type": "code",
   "execution_count": 11,
   "metadata": {},
   "outputs": [
    {
     "data": {
      "text/plain": [
       "{'city': 'San Diego', 'name': 'Heat', 'year': 2019}"
      ]
     },
     "execution_count": 11,
     "metadata": {},
     "output_type": "execute_result"
    }
   ],
   "source": [
    "class NbaTeam():\n",
    "    def __init__(self, city, name, year=2023):\n",
    "        self.city = city\n",
    "        self.name = name\n",
    "        self.year = year \n",
    "\n",
    "heat = NbaTeam('Miami', 'Heat', 2019 )\n",
    "heat.year\n",
    "\n",
    "#changing an instance property\n",
    "heat.city = 'San Diego'\n",
    "\n",
    "#viewing properties as a dictionary\n",
    "heat.__dict__"
   ]
  },
  {
   "attachments": {},
   "cell_type": "markdown",
   "metadata": {},
   "source": [
    "##### Changing Instance Attributes <br>\n",
    "<p>Keep in mind there are global class attributes and then there are attributes only available to each class instance which won't effect other classes.</p>"
   ]
  },
  {
   "cell_type": "code",
   "execution_count": null,
   "metadata": {},
   "outputs": [],
   "source": [
    "# see above"
   ]
  },
  {
   "cell_type": "markdown",
   "metadata": {},
   "source": [
    "##### In-Class Exercise #2 - Add a doors and seats attribute to your 'Car' class then print out two different instances with different doors and seats"
   ]
  },
  {
   "cell_type": "code",
   "execution_count": 17,
   "metadata": {},
   "outputs": [
    {
     "name": "stdout",
     "output_type": "stream",
     "text": [
      "4\n",
      "5\n",
      "2\n",
      "2\n"
     ]
    }
   ],
   "source": [
    "class Car():\n",
    "    def __init__(self, doors, seats):\n",
    "        self.doors = doors\n",
    "        self.seats = seats\n",
    "\n",
    "car = Car(4, 5)\n",
    "print(car.doors)\n",
    "print(car.seats)\n",
    "\n",
    "car2 =Car(2,2)\n",
    "print(car2.doors)\n",
    "print(car2.seats)\n"
   ]
  },
  {
   "cell_type": "markdown",
   "metadata": {},
   "source": [
    "## Class Methods <br>\n",
    "<p>While inside of a class, functions are referred to as 'methods'. If you hear someone mention methods, they're speaking about classes. Methods are essentially functions, but only callable on the instances of a class.</p>"
   ]
  },
  {
   "cell_type": "markdown",
   "metadata": {},
   "source": [
    "##### Creating"
   ]
  },
  {
   "cell_type": "code",
   "execution_count": 25,
   "metadata": {},
   "outputs": [
    {
     "data": {
      "text/plain": [
       "<bound method Roster.runner of <__main__.Roster object at 0x000001C623860730>>"
      ]
     },
     "execution_count": 25,
     "metadata": {},
     "output_type": "execute_result"
    }
   ],
   "source": [
    "class Roster():\n",
    "    def __init__(self):\n",
    "        self.depth_chart = {}\n",
    "        self.num_of_players = 0\n",
    "\n",
    "    def addPlayer(self):\n",
    "        name = input('What player would you like to add to your roster?')\n",
    "        jersey_num = int(input(f'What number will {name} have? '))\n",
    "        self.depth_chart[name] = ['jersey_num']\n",
    "        self.num_of_players += 1\n",
    "        print(f'{name} was added to your roster!')\n",
    "        print(f'Your current roster is {self.depth_chart}')\n",
    "\n",
    "\n",
    "    def removePLayer(self):\n",
    "        name = input('What player would you like to remove from your roster?')\n",
    "        if (name in self.depth_chart):\n",
    "            del self.depth_chart[name]\n",
    "            self.num_of_players -= 1\n",
    "            print(f'{name} has been removed from your roster!')\n",
    "            print(f'Your current roster is {self.depth_chart}')\n",
    "        else:\n",
    "            print(f'{name} is not on your team.')\n",
    "\n",
    "    def showPlayers(self):\n",
    "        print('Your roster has {self.num_of_players} players')\n",
    "        print('-----------Current roster----------')\n",
    "        for key, value in self.depthchart.items():\n",
    "            print(key,value)\n",
    "    def runner(self):\n",
    "        while True: \n",
    "            choice = input('What would you like to do? (add, remove, show, quit)').lower()\n",
    "            if (choice == 'quit'):\n",
    "                print('Good luck this season!')\n",
    "                break\n",
    "            elif(choice == 'add'):\n",
    "                self.addPlayer()\n",
    "            elif(choice == 'remove'):\n",
    "                self.removePLayer\n",
    "            elif (choice == 'show'):\n",
    "                self.showPlayers()\n",
    "            else:\n",
    "                print('Invalid input, please try again...')\n",
    "\n",
    "\n",
    "\n",
    "\n",
    "thievesRoster = Roster()\n",
    "thievesRoster.runner"
   ]
  },
  {
   "cell_type": "markdown",
   "metadata": {},
   "source": [
    "##### Calling"
   ]
  },
  {
   "cell_type": "code",
   "execution_count": null,
   "metadata": {},
   "outputs": [],
   "source": [
    "# See Above"
   ]
  },
  {
   "cell_type": "markdown",
   "metadata": {},
   "source": [
    "##### Modifying an Attribute's Value Through a Method"
   ]
  },
  {
   "cell_type": "code",
   "execution_count": null,
   "metadata": {},
   "outputs": [],
   "source": [
    "# see above\n"
   ]
  },
  {
   "cell_type": "markdown",
   "metadata": {},
   "source": [
    "##### Incrementing an Attribute's Value Through a Method"
   ]
  },
  {
   "cell_type": "code",
   "execution_count": null,
   "metadata": {},
   "outputs": [],
   "source": [
    "# see above\n"
   ]
  },
  {
   "cell_type": "markdown",
   "metadata": {},
   "source": [
    "## Inheritance <br>\n",
    "<p>You can create a child-parent relationship between two classes by using inheritance. What this allows you to do is have overriding methods, but also inherit traits from the parent class. Think of it as an actual parent and child, the child will inherit the parent's genes, as will the classes in OOP</p>"
   ]
  },
  {
   "cell_type": "markdown",
   "metadata": {},
   "source": [
    "##### Syntax for Inheriting from a Parent Class"
   ]
  },
  {
   "cell_type": "code",
   "execution_count": 28,
   "metadata": {},
   "outputs": [
    {
     "ename": "TypeError",
     "evalue": "object.__init__() takes exactly one argument (the instance to initialize)",
     "output_type": "error",
     "traceback": [
      "\u001b[1;31m---------------------------------------------------------------------------\u001b[0m",
      "\u001b[1;31mTypeError\u001b[0m                                 Traceback (most recent call last)",
      "\u001b[1;32mc:\\Users\\mel0s\\Thieves_133\\week2\\day4\\Thursday_Blank_Thieves.ipynb Cell 38\u001b[0m line \u001b[0;36m6\n\u001b[0;32m     <a href='vscode-notebook-cell:/c%3A/Users/mel0s/Thieves_133/week2/day4/Thursday_Blank_Thieves.ipynb#X52sZmlsZQ%3D%3D?line=54'>55</a>\u001b[0m                 \u001b[39mprint\u001b[39m(\u001b[39m'\u001b[39m\u001b[39mInvalid input, please try again...\u001b[39m\u001b[39m'\u001b[39m)\n\u001b[0;32m     <a href='vscode-notebook-cell:/c%3A/Users/mel0s/Thieves_133/week2/day4/Thursday_Blank_Thieves.ipynb#X52sZmlsZQ%3D%3D?line=58'>59</a>\u001b[0m thievesTeam \u001b[39m=\u001b[39m NbaTeam(\u001b[39m'\u001b[39m\u001b[39mLA\u001b[39m\u001b[39m'\u001b[39m,\u001b[39m'\u001b[39m\u001b[39mLakers\u001b[39m\u001b[39m'\u001b[39m)\n\u001b[1;32m---> <a href='vscode-notebook-cell:/c%3A/Users/mel0s/Thieves_133/week2/day4/Thursday_Blank_Thieves.ipynb#X52sZmlsZQ%3D%3D?line=59'>60</a>\u001b[0m thievesRoster \u001b[39m=\u001b[39m Roster(thievesTeam\u001b[39m.\u001b[39;49mcity, thievesTeam\u001b[39m.\u001b[39;49mname)\n\u001b[0;32m     <a href='vscode-notebook-cell:/c%3A/Users/mel0s/Thieves_133/week2/day4/Thursday_Blank_Thieves.ipynb#X52sZmlsZQ%3D%3D?line=60'>61</a>\u001b[0m thievesRoster\u001b[39m.\u001b[39m\u001b[39m__dict__\u001b[39m\n",
      "\u001b[1;32mc:\\Users\\mel0s\\Thieves_133\\week2\\day4\\Thursday_Blank_Thieves.ipynb Cell 38\u001b[0m line \u001b[0;36m1\n\u001b[0;32m     <a href='vscode-notebook-cell:/c%3A/Users/mel0s/Thieves_133/week2/day4/Thursday_Blank_Thieves.ipynb#X52sZmlsZQ%3D%3D?line=12'>13</a>\u001b[0m \u001b[39mdef\u001b[39;00m \u001b[39m__init__\u001b[39m(\u001b[39mself\u001b[39m, city, name):\n\u001b[1;32m---> <a href='vscode-notebook-cell:/c%3A/Users/mel0s/Thieves_133/week2/day4/Thursday_Blank_Thieves.ipynb#X52sZmlsZQ%3D%3D?line=13'>14</a>\u001b[0m     \u001b[39msuper\u001b[39;49m()\u001b[39m.\u001b[39;49m\u001b[39m__init__\u001b[39;49m(city, name)\n\u001b[0;32m     <a href='vscode-notebook-cell:/c%3A/Users/mel0s/Thieves_133/week2/day4/Thursday_Blank_Thieves.ipynb#X52sZmlsZQ%3D%3D?line=14'>15</a>\u001b[0m     \u001b[39mself\u001b[39m\u001b[39m.\u001b[39mdepth_chart \u001b[39m=\u001b[39m {}\n\u001b[0;32m     <a href='vscode-notebook-cell:/c%3A/Users/mel0s/Thieves_133/week2/day4/Thursday_Blank_Thieves.ipynb#X52sZmlsZQ%3D%3D?line=15'>16</a>\u001b[0m     \u001b[39mself\u001b[39m\u001b[39m.\u001b[39mnum_of_players \u001b[39m=\u001b[39m \u001b[39m0\u001b[39m\n",
      "\u001b[1;31mTypeError\u001b[0m: object.__init__() takes exactly one argument (the instance to initialize)"
     ]
    }
   ],
   "source": [
    "class NbaTeam(): #Parent Class\n",
    "    def __init__(self, city, name, year=2023):\n",
    "        self.city = city\n",
    "        self.name = name\n",
    "        self.year = year\n",
    "\n",
    "    def printInfo(self):\n",
    "        return f'The {self.name} are from {self.city}.'\n",
    "    \n",
    "\n",
    "\n",
    "class Roster(): #child class\n",
    "    def __init__(self, city, name):\n",
    "        super().__init__(city, name)\n",
    "        self.depth_chart = {}\n",
    "        self.num_of_players = 0\n",
    "\n",
    "    def addPlayer(self):\n",
    "        name = input(f'What player would you like to add to the {self.name}?')\n",
    "        jersey_num = int(input(f'What number will {name} have? '))\n",
    "        self.depth_chart[name] = ['jersey_num']\n",
    "        self.num_of_players += 1\n",
    "        print(f'{name} was added to the {self.name}!')\n",
    "        print(f'Your current roster is {self.depth_chart}')\n",
    "\n",
    "\n",
    "    def removePLayer(self):\n",
    "        name = input('What player would you like to remove from the {self.name}')\n",
    "        if (name in self.depth_chart):\n",
    "            del self.depth_chart[name]\n",
    "            self.num_of_players -= 1\n",
    "            print(f'{name} has been removed from your roster!')\n",
    "            print(f'Your current roster is {self.depth_chart}')\n",
    "        else:\n",
    "            print(f'{name} is not on your team.')\n",
    "\n",
    "    def showPlayers(self):\n",
    "        print('Your roster has {self.num_of_players} players')\n",
    "        print('-----------Current Roster for {self.city} {self.name}----------')\n",
    "        for key, value in self.depthchart.items():\n",
    "            print(key,value)\n",
    "    def runner(self):\n",
    "        while True: \n",
    "            choice = input('What would you like to do? (add, remove, show, quit)').lower()\n",
    "            if (choice == 'quit'):\n",
    "                print('Good luck this season!')\n",
    "                break\n",
    "            elif(choice == 'add'):\n",
    "                self.addPlayer()\n",
    "            elif(choice == 'remove'):\n",
    "                self.removePLayer\n",
    "            elif (choice == 'show'):\n",
    "                self.showPlayers()\n",
    "            else:\n",
    "                print('Invalid input, please try again...')\n",
    "\n",
    "\n",
    "\n",
    "thievesTeam = NbaTeam('LA','Lakers')\n",
    "thievesRoster = Roster(thievesTeam.city, thievesTeam.name)\n",
    "thievesRoster.__dict__\n"
   ]
  },
  {
   "cell_type": "markdown",
   "metadata": {},
   "source": [
    "##### The \\__init\\__() Method for a Child Class - super()"
   ]
  },
  {
   "cell_type": "code",
   "execution_count": null,
   "metadata": {
    "scrolled": true
   },
   "outputs": [],
   "source": [
    "# see above"
   ]
  },
  {
   "cell_type": "markdown",
   "metadata": {},
   "source": [
    "##### Defining Attributes and Methods for the Child Class"
   ]
  },
  {
   "cell_type": "code",
   "execution_count": null,
   "metadata": {},
   "outputs": [],
   "source": [
    "# See Above"
   ]
  },
  {
   "cell_type": "markdown",
   "metadata": {},
   "source": [
    "# Exercises"
   ]
  },
  {
   "cell_type": "markdown",
   "metadata": {},
   "source": [
    "### Exercise 1 - Turn the shopping cart program from yesterday into an object-oriented program\n",
    "\n",
    "The comments in the cell below are there as a guide for thinking about the problem. However, if you feel a different way is best for you and your own thought process, please do what feels best for you by all means."
   ]
  },
  {
   "cell_type": "code",
   "execution_count": null,
   "metadata": {},
   "outputs": [],
   "source": []
  },
  {
   "cell_type": "code",
   "execution_count": 9,
   "metadata": {},
   "outputs": [
    {
     "name": "stdout",
     "output_type": "stream",
     "text": [
      "(apples was sucessfully added to your cart!\n",
      "Your current cart includes {'apples': 3}.\n",
      "Your cart has 1 items.\n",
      "-----Your Current Shopping Cart-----\n",
      "apples 3\n",
      "(bananas was sucessfully added to your cart!\n",
      "Your current cart includes {'apples': 3, 'bananas': 6}.\n",
      "(chicken was sucessfully added to your cart!\n",
      "Your current cart includes {'apples': 3, 'bananas': 6, 'chicken': 9}.\n",
      "(cucumbers was sucessfully added to your cart!\n",
      "Your current cart includes {'apples': 3, 'bananas': 6, 'chicken': 9, 'cucumbers': 2}.\n",
      "Your cart has 4 items.\n",
      "-----Your Current Shopping Cart-----\n",
      "apples 3\n",
      "bananas 6\n",
      "chicken 9\n",
      "cucumbers 2\n",
      "(chicken has been removed from your cart!\n",
      "Your current cart includes {'apples': 3, 'bananas': 6, 'cucumbers': 2}.\n",
      "This is your final cart, {'apples': 3, 'bananas': 6, 'cucumbers': 2}!\n",
      "Thank you for shopping with us!\n"
     ]
    }
   ],
   "source": [
    "# Create a class called cart that retains items and has methods to add, remove, and show\n",
    "\n",
    "class Cart():\n",
    "    def __init__(self):\n",
    "        self.depth_chart = {}\n",
    "        self.num_of_items = 0\n",
    "\n",
    "    def addItem(self):\n",
    "        name = input(\"What would you like to add to your cart?\")\n",
    "        item_quantity = int(input(f'How many {name} would you like to add to your cart?'))\n",
    "        self.depth_chart[name] = item_quantity\n",
    "        self.num_of_items += 1\n",
    "        print(f'({name} was sucessfully added to your cart!')\n",
    "        print(f'Your current cart includes {self.depth_chart}.')\n",
    "\n",
    "    def removeItem(self):\n",
    "        name = input('What would you like to remove from your cart?')\n",
    "        if (name in self.depth_chart):\n",
    "            del self.depth_chart[name]\n",
    "            self.num_of_items -= 1\n",
    "            print(f'({name} has been removed from your cart!')\n",
    "            print(f'Your current cart includes {self.depth_chart}.')\n",
    "\n",
    "    def showItem(self):\n",
    "        print(f'Your cart has {self.num_of_items} items.')\n",
    "        print('-----Your Current Shopping Cart-----')\n",
    "        for key,value in self.depth_chart.items():\n",
    "            print(key,value)\n",
    "\n",
    "    def runner(self):\n",
    "        while True:\n",
    "            choice = input('What would you like to do? (add, remove, show, quit)').lower()\n",
    "            if (choice == 'quit'):\n",
    "                print(f'This is your final cart {self.depth_chart}!')\n",
    "                print('Thank you for shopping with us!')\n",
    "                break\n",
    "            elif (choice == 'add'):\n",
    "                self.addItem()\n",
    "            elif (choice == 'remove'):\n",
    "                self.removeItem()\n",
    "            elif (choice == 'show'):\n",
    "                self.showItem()\n",
    "            else:\n",
    "                print(\"Sorry, we didn't quite get that... Try again.\")\n",
    "\n",
    "shoppingCart = Cart()\n",
    "shoppingCart.runner()"
   ]
  },
  {
   "cell_type": "markdown",
   "metadata": {},
   "source": [
    "### Exercise 2 - Write a Python class which has two methods get_String and print_String. get_String accept a string from the user and print_String print the string in upper case"
   ]
  },
  {
   "cell_type": "code",
   "execution_count": 18,
   "metadata": {},
   "outputs": [
    {
     "name": "stdout",
     "output_type": "stream",
     "text": [
      "I LOVE DRAKE, OLIVIA RODRIGO, TAYLOR SWIFT, ICE SPICE, AND MORE!!!\n"
     ]
    }
   ],
   "source": [
    "class Strings():\n",
    "    def __init__(self):\n",
    "        self.user_string : \" \"\n",
    "\n",
    "    def get_String(self):\n",
    "        self.user_string = input('Say something as a string!!!')\n",
    "    \n",
    "    def print_String(self):\n",
    "        print(self.user_string.upper())\n",
    "        \n",
    "\n",
    "string_instance = Strings()\n",
    "\n",
    "string_instance.get_String()\n",
    "string_instance.print_String()\n"
   ]
  }
 ],
 "metadata": {
  "kernelspec": {
   "display_name": "Python 3",
   "language": "python",
   "name": "python3"
  },
  "language_info": {
   "codemirror_mode": {
    "name": "ipython",
    "version": 3
   },
   "file_extension": ".py",
   "mimetype": "text/x-python",
   "name": "python",
   "nbconvert_exporter": "python",
   "pygments_lexer": "ipython3",
   "version": "3.10.11"
  },
  "vscode": {
   "interpreter": {
    "hash": "aa82987a71ca0339a52998cd22613b0c002bda8349fa32a0cb67ceec3936a2bf"
   }
  }
 },
 "nbformat": 4,
 "nbformat_minor": 2
}
